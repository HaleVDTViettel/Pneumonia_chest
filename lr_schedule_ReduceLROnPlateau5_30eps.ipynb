{
 "cells": [
  {
   "cell_type": "code",
   "execution_count": null,
   "metadata": {},
   "outputs": [],
   "source": [
    "import warnings\n",
    "warnings.filterwarnings(\"ignore\")\n",
    "\n",
    "import time\n",
    "import yaml\n",
    "import pprint\n",
    "import logging\n",
    "import numpy as np\n",
    "from modules.check_solution import *\n",
    "\n",
    "def _get_configs(configs):\n",
    "    with open(f\"configs/{configs}.yaml\", \"r\") as file:\n",
    "        configs = yaml.safe_load(file)\n",
    "    return configs\n",
    "\n",
    "configs = _get_configs(\"lr_schedule_ReduceLROnPlateau5_30eps\")\n",
    "print(configs)\n",
    "\n",
    "logging.getLogger(\"pytorch_lightning\").setLevel(logging.ERROR)\n",
    "\n",
    "f1_array = np.array([])\n",
    "accuracy_array = np.array([])\n",
    "start_time = time.time()\n",
    "\n",
    "repeats = 5\n",
    "for i in range(repeats):\n",
    "    print(\"===============================================\")\n",
    "    print(f\"Running solution {i+1}/{repeats}\")\n",
    "    f1, accuracy = check_solution(configs, verbose=(i==0))\n",
    "    print(f\"F1 = {f1:.2f}, accuracy = {accuracy:.2f} \")\n",
    "    f1_array = np.append(f1_array, f1)\n",
    "    accuracy_array = np.append(accuracy_array, accuracy) \n",
    "\n",
    "# Calculate elapsed time and remaining time\n",
    "repeat_time = (time.time() - start_time) / repeats\n",
    "repeat_time_min, repeat_time_sec = divmod(repeat_time, 60)\n",
    "\n",
    "# Printing final results\n",
    "print(\"Results\")\n",
    "print(f\"F1: {np.mean(f1_array):.1%} (+-{np.std(f1_array):.1%})\")\n",
    "print(f\"Accuracy: {np.mean(accuracy_array):.1%} (+-{np.std(accuracy_array):.1%})\")\n",
    "print(f\"Time of one solution: {repeat_time_min:.0f}m {repeat_time_sec:.0f}s\")\n",
    "print(f\" | {np.mean(f1_array):.1%} (+-{np.std(f1_array):.1%}) | {np.mean(accuracy_array):.1%} (+-{np.std(accuracy_array):.1%}) | {repeat_time_min:.0f}m {repeat_time_sec:.0f}s\")\n",
    "\n",
    "# Print hyperparameters for reminding what the final data is for\n",
    "print(\"Hyperparameters:\")\n",
    "pprint.pprint(configs, indent=4)"
   ]
  }
 ],
 "metadata": {
  "language_info": {
   "name": "python"
  }
 },
 "nbformat": 4,
 "nbformat_minor": 2
}
